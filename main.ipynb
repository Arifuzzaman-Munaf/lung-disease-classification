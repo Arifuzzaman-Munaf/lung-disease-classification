{
  "nbformat": 4,
  "nbformat_minor": 0,
  "metadata": {
    "colab": {
      "provenance": [],
      "authorship_tag": "ABX9TyNkAC8mWN/SvnE/fCafjsm8"
    },
    "kernelspec": {
      "name": "python3",
      "display_name": "Python 3"
    },
    "language_info": {
      "name": "python"
    }
  },
  "cells": [
    {
      "cell_type": "code",
      "execution_count": 12,
      "metadata": {
        "colab": {
          "base_uri": "https://localhost:8080/"
        },
        "id": "yxUKsQHjzudk",
        "outputId": "2c333d83-39e3-45b5-c3dc-5789f0420942"
      },
      "outputs": [
        {
          "output_type": "stream",
          "name": "stdout",
          "text": [
            "Drive already mounted at /content/drive; to attempt to forcibly remount, call drive.mount(\"/content/drive\", force_remount=True).\n"
          ]
        }
      ],
      "source": [
        "from google.colab import drive\n",
        "drive.mount('/content/drive')"
      ]
    },
    {
      "cell_type": "code",
      "source": [
        "SKELETON_DIR = '/content/drive/MyDrive/DLE602'\n",
        "\n",
        "# Set up auto-reloading modules from the working directory\n",
        "%load_ext autoreload\n",
        "%autoreload 2"
      ],
      "metadata": {
        "colab": {
          "base_uri": "https://localhost:8080/"
        },
        "id": "J5rckO6-1a5u",
        "outputId": "43d65ed5-a89a-4f66-94ad-58f9706cb75d"
      },
      "execution_count": 13,
      "outputs": [
        {
          "output_type": "stream",
          "name": "stdout",
          "text": [
            "The autoreload extension is already loaded. To reload it, use:\n",
            "  %reload_ext autoreload\n"
          ]
        }
      ]
    },
    {
      "cell_type": "code",
      "metadata": {
        "id": "94d0a084"
      },
      "source": [
        "# Set the default figure size\n",
        "import matplotlib.pyplot as plt\n",
        "plt.rcParams['figure.dpi'] = 120"
      ],
      "execution_count": 14,
      "outputs": []
    },
    {
      "cell_type": "code",
      "source": [
        "%%bash\n",
        "curl -L -o ./lung-x-ray-image-clinical-text-dataset.zip\\\n",
        "  https://www.kaggle.com/api/v1/datasets/download/ghostbat101/lung-x-ray-image-clinical-text-dataset"
      ],
      "metadata": {
        "colab": {
          "base_uri": "https://localhost:8080/"
        },
        "id": "DsG-jEYC4Xaq",
        "outputId": "464f5a10-96ae-45f7-b600-4163413caea2"
      },
      "execution_count": 15,
      "outputs": [
        {
          "output_type": "stream",
          "name": "stderr",
          "text": [
            "  % Total    % Received % Xferd  Average Speed   Time    Time     Time  Current\n",
            "                                 Dload  Upload   Total   Spent    Left  Speed\n",
            "\r  0     0    0     0    0     0      0      0 --:--:-- --:--:-- --:--:--     0\r  0     0    0     0    0     0      0      0 --:--:-- --:--:-- --:--:--     0\n",
            "\r  6 1358M    6 88.6M    0     0   106M      0  0:00:12 --:--:--  0:00:12  106M\r 18 1358M   18  254M    0     0   116M      0  0:00:11  0:00:02  0:00:09  122M\r 18 1358M   18  256M    0     0  85.2M      0  0:00:15  0:00:03  0:00:12 77.0M\r 18 1358M   18  257M    0     0  67.1M      0  0:00:20  0:00:03  0:00:17 56.2M\r 19 1358M   19  260M    0     0  51.1M      0  0:00:26  0:00:05  0:00:21 40.3M\r 19 1358M   19  261M    0     0  43.9M      0  0:00:30  0:00:05  0:00:25 33.8M\r 19 1358M   19  264M    0     0  37.5M      0  0:00:36  0:00:07  0:00:29 1973k\r 31 1358M   31  428M    0     0  54.6M      0  0:00:24  0:00:07  0:00:17 35.5M\r 42 1358M   42  575M    0     0  65.2M      0  0:00:20  0:00:08  0:00:12 63.7M\r 51 1358M   51  694M    0     0  70.1M      0  0:00:19  0:00:09  0:00:10 90.0M\r 63 1358M   63  861M    0     0  79.5M      0  0:00:17  0:00:10  0:00:07  122M\r 78 1358M   78 1062M    0     0  89.8M      0  0:00:15  0:00:11  0:00:04  166M\r 92 1358M   92 1257M    0     0  98.0M      0  0:00:13  0:00:12  0:00:01  165M\r100 1358M  100 1358M    0     0   101M      0  0:00:13  0:00:13 --:--:--  171M\n"
          ]
        }
      ]
    },
    {
      "cell_type": "code",
      "source": [
        "%%bash\n",
        "rm -rf dataset\n",
        "mkdir dataset\n",
        "unzip -q -o lung-x-ray-image-clinical-text-dataset.zip -d dataset/"
      ],
      "metadata": {
        "id": "Ql0MKjEe4uOX"
      },
      "execution_count": 18,
      "outputs": []
    }
  ]
}